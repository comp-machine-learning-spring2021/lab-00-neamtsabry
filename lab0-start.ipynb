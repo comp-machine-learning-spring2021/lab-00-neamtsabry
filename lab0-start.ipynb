{
 "cells": [
  {
   "cell_type": "code",
   "execution_count": 1,
   "id": "intended-valuation",
   "metadata": {},
   "outputs": [
    {
     "name": "stdout",
     "output_type": "stream",
     "text": [
      "Hello Jupyter\n"
     ]
    }
   ],
   "source": [
    "print(\"Hello Jupyter\")"
   ]
  },
  {
   "cell_type": "markdown",
   "id": "accepting-treasury",
   "metadata": {},
   "source": [
    "rint(\"Hello Jupyter\")"
   ]
  },
  {
   "cell_type": "code",
   "execution_count": 2,
   "id": "requested-repair",
   "metadata": {},
   "outputs": [
    {
     "name": "stdout",
     "output_type": "stream",
     "text": [
      "Hello Jupyter\n"
     ]
    }
   ],
   "source": [
    "print(\"Hello Jupyter\")"
   ]
  },
  {
   "cell_type": "code",
   "execution_count": 3,
   "id": "sudden-queensland",
   "metadata": {},
   "outputs": [],
   "source": [
    "##Helllooo"
   ]
  },
  {
   "cell_type": "markdown",
   "id": "accompanied-black",
   "metadata": {},
   "source": [
    "## is this a title?"
   ]
  },
  {
   "cell_type": "markdown",
   "id": "instrumental-valuation",
   "metadata": {},
   "source": [
    "#### yes it is!!"
   ]
  },
  {
   "cell_type": "markdown",
   "id": "specialized-engineer",
   "metadata": {},
   "source": [
    "</ hello >"
   ]
  },
  {
   "cell_type": "code",
   "execution_count": 5,
   "id": "cubic-plenty",
   "metadata": {},
   "outputs": [
    {
     "name": "stdout",
     "output_type": "stream",
     "text": [
      "this is the first block\n"
     ]
    }
   ],
   "source": [
    "print(\"this is the first block\")"
   ]
  },
  {
   "cell_type": "code",
   "execution_count": 6,
   "id": "illegal-astrology",
   "metadata": {},
   "outputs": [
    {
     "name": "stdout",
     "output_type": "stream",
     "text": [
      "yay\n"
     ]
    }
   ],
   "source": [
    "x = 5\n",
    "if x == 5:\n",
    "    print(\"yay\")"
   ]
  },
  {
   "cell_type": "code",
   "execution_count": 7,
   "id": "alpha-retail",
   "metadata": {},
   "outputs": [
    {
     "name": "stdout",
     "output_type": "stream",
     "text": [
      "more print statements\n"
     ]
    }
   ],
   "source": [
    "print(\"more print statements\")"
   ]
  },
  {
   "cell_type": "code",
   "execution_count": null,
   "id": "improving-escape",
   "metadata": {},
   "outputs": [],
   "source": []
  }
 ],
 "metadata": {
  "kernelspec": {
   "display_name": "Python 3",
   "language": "python",
   "name": "python3"
  },
  "language_info": {
   "codemirror_mode": {
    "name": "ipython",
    "version": 3
   },
   "file_extension": ".py",
   "mimetype": "text/x-python",
   "name": "python",
   "nbconvert_exporter": "python",
   "pygments_lexer": "ipython3",
   "version": "3.8.5"
  }
 },
 "nbformat": 4,
 "nbformat_minor": 5
}
